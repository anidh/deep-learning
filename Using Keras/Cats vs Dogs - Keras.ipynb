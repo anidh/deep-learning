{
 "cells": [
  {
   "cell_type": "code",
   "execution_count": 21,
   "metadata": {},
   "outputs": [
    {
     "name": "stdout",
     "output_type": "stream",
     "text": [
      "The tensorflow version which we will be using is 1.12.0\n"
     ]
    }
   ],
   "source": [
    "#Firstly importing all  the necessary libraries which will be used\n",
    "import tensorflow as tf\n",
    "print(\"The tensorflow version which we will be using is {}\".format(tf.__version__))\n",
    "from tensorflow.keras.callbacks import TensorBoard\n",
    "from tensorflow.keras.models import Sequential\n",
    "from tensorflow.keras.layers import Flatten,Dense,Dropout,Conv2D\n",
    "import cv2\n",
    "import os\n",
    "import pickle\n",
    "import numpy as np\n",
    "import time\n",
    "import math\n",
    "import matplotlib.pyplot as plt\n",
    "%matplotlib inline\n"
   ]
  },
  {
   "cell_type": "code",
   "execution_count": 22,
   "metadata": {},
   "outputs": [],
   "source": [
    "training_data=[]\n",
    "def create_training_data(): \n",
    "    #Now defining the base directory from where we will load our data, this will be our base directory from where we will load our data\n",
    "    BASEDIR=\"E:\\deep-learning\\datasets\\kagglecatsanddogs_3367a\\PetImages\"\n",
    "    #the two categories of the data which we have\n",
    "    categories=[\"Dog\",\"Cat\"]\n",
    "    #The size of the image which we will be using\n",
    "    IMG_SIZE=100\n",
    "    #the index which we will be using\n",
    "    class_num=[]\n",
    "    for category in categories:\n",
    "        full_path=os.path.join(BASEDIR,category)\n",
    "        class_num=categories.index(category)\n",
    "        for file in os.listdir(full_path):\n",
    "            full_file_name=os.path.join(full_path,file)\n",
    "            try:\n",
    "                img_array=cv2.imread(full_file_name,cv2.IMREAD_GRAYSCALE)\n",
    "                new_img_array=cv2.resize(img_array,(IMG_SIZE,IMG_SIZE))\n",
    "                training_data.append([new_img_array,class_num])\n",
    "            except Exception as e:\n",
    "                pass\n"
   ]
  },
  {
   "cell_type": "code",
   "execution_count": 23,
   "metadata": {},
   "outputs": [
    {
     "name": "stdout",
     "output_type": "stream",
     "text": [
      "The length of the training data is 24946\n"
     ]
    }
   ],
   "source": [
    "create_training_data()\n",
    "print(\"The length of the training data is {}\".format(len(training_data)))"
   ]
  },
  {
   "cell_type": "code",
   "execution_count": 24,
   "metadata": {},
   "outputs": [
    {
     "name": "stdout",
     "output_type": "stream",
     "text": [
      "The shape of the Features are (24946, 100, 100, 1)\n",
      "The shape of the labels are (24946,)\n"
     ]
    }
   ],
   "source": [
    "#Now shuffling and extracting features and the labels\n",
    "IMG_SIZE=100\n",
    "def extract_features_labels():\n",
    "    import random\n",
    "    random.shuffle(training_data)\n",
    "    #Now extracting features and labels\n",
    "    X=[]\n",
    "    Y=[]\n",
    "    for features,labels in training_data:\n",
    "        X.append(features)\n",
    "        Y.append(labels)\n",
    "    X=np.array(X).reshape(-1,IMG_SIZE,IMG_SIZE,1) #1 at the last as it's ann greyscale image\n",
    "    Y=np.array(Y)\n",
    "    print(\"The shape of the Features are {}\".format(X.shape))\n",
    "    print(\"The shape of the labels are {}\".format(Y.shape))\n",
    "    #Normalizing our data\n",
    "    X=X/255\n",
    "    return X,Y\n",
    "X,Y=extract_features_labels()"
   ]
  },
  {
   "cell_type": "code",
   "execution_count": 25,
   "metadata": {},
   "outputs": [
    {
     "data": {
      "text/plain": [
       "'#Saving our data\\nimport pickle\\npickle_out=open(\"X.pickle\",\"wb\")\\npickle.dump(X,pickle_out)\\npickle_out.close()\\n\\npickle_out=open(\"Y.pickle\",\"wb\")\\npickle.dump(Y,pickle_out)\\npickle_out.close()'"
      ]
     },
     "execution_count": 25,
     "metadata": {},
     "output_type": "execute_result"
    }
   ],
   "source": [
    "\"\"\"#Saving our data\n",
    "import pickle\n",
    "pickle_out=open(\"X.pickle\",\"wb\")\n",
    "pickle.dump(X,pickle_out)\n",
    "pickle_out.close()\n",
    "\n",
    "pickle_out=open(\"Y.pickle\",\"wb\")\n",
    "pickle.dump(Y,pickle_out)\n",
    "pickle_out.close()\"\"\""
   ]
  },
  {
   "cell_type": "code",
   "execution_count": 26,
   "metadata": {},
   "outputs": [
    {
     "data": {
      "text/plain": [
       "'pickle_in=open(\"X.pickle\",\"rb\")\\nX=pickle.load(pickle_in)\\npickle_in=open(\"Y.pickle\",\"rb\")\\nY=pickle.load(pickle_in)'"
      ]
     },
     "execution_count": 26,
     "metadata": {},
     "output_type": "execute_result"
    }
   ],
   "source": [
    "\"\"\"pickle_in=open(\"X.pickle\",\"rb\")\n",
    "X=pickle.load(pickle_in)\n",
    "pickle_in=open(\"Y.pickle\",\"rb\")\n",
    "Y=pickle.load(pickle_in)\"\"\""
   ]
  },
  {
   "cell_type": "code",
   "execution_count": 33,
   "metadata": {},
   "outputs": [],
   "source": [
    "from tensorflow.keras.layers import Activation,MaxPooling2D\n",
    "def create_model():\n",
    "\n",
    "    dense_layers = [0]\n",
    "    layer_sizes = [64]\n",
    "    conv_layers = [3]\n",
    "\n",
    "    for dense_layer in dense_layers:\n",
    "        for layer_size in layer_sizes:\n",
    "            for conv_layer in conv_layers:\n",
    "                NAME = \"{}-conv-{}-nodes-{}-dense-{}\".format(conv_layer, layer_size, dense_layer, int(time.time()))\n",
    "                print(NAME)\n",
    "\n",
    "                model = Sequential()\n",
    "\n",
    "                model.add(Conv2D(layer_size, (3, 3), input_shape=X.shape[1:]))\n",
    "                model.add(Activation('relu'))\n",
    "                model.add(MaxPooling2D(pool_size=(2, 2)))\n",
    "\n",
    "                for l in range(conv_layer-1):\n",
    "                    model.add(Conv2D(layer_size, (3, 3)))\n",
    "                    model.add(Activation('relu'))\n",
    "                    model.add(MaxPooling2D(pool_size=(2, 2)))\n",
    "\n",
    "                model.add(Flatten())\n",
    "\n",
    "                for _ in range(dense_layer):\n",
    "                    model.add(Dense(layer_size))\n",
    "                    model.add(Activation('relu'))\n",
    "\n",
    "                model.add(Dense(1))\n",
    "                model.add(Activation('sigmoid'))\n",
    "\n",
    "                tensorboard = TensorBoard(log_dir=\"logs/{}\".format(NAME))\n",
    "\n",
    "                model.compile(loss='binary_crossentropy',\n",
    "                              optimizer='adam',\n",
    "                              metrics=['accuracy'],\n",
    "                              )\n",
    "\n",
    "                model.fit(X, Y,\n",
    "                          batch_size=32,\n",
    "                          epochs=10,\n",
    "                          validation_split=0.3,\n",
    "                          callbacks=[tensorboard])\n",
    "\n",
    "    model.save('64x3-CNN.model')\n"
   ]
  },
  {
   "cell_type": "code",
   "execution_count": 34,
   "metadata": {
    "scrolled": false
   },
   "outputs": [
    {
     "name": "stdout",
     "output_type": "stream",
     "text": [
      "3-conv-64-nodes-0-dense-1546459786\n",
      "Train on 17462 samples, validate on 7484 samples\n",
      "Epoch 1/10\n",
      "17462/17462 [==============================] - 139s 8ms/step - loss: 0.6522 - acc: 0.6038 - val_loss: 0.5749 - val_acc: 0.7043\n",
      "Epoch 2/10\n",
      "17462/17462 [==============================] - 125s 7ms/step - loss: 0.5438 - acc: 0.7273 - val_loss: 0.5053 - val_acc: 0.7505\n",
      "Epoch 3/10\n",
      "17462/17462 [==============================] - 123s 7ms/step - loss: 0.4746 - acc: 0.7748 - val_loss: 0.5110 - val_acc: 0.7408\n",
      "Epoch 4/10\n",
      "17462/17462 [==============================] - 123s 7ms/step - loss: 0.4287 - acc: 0.8012 - val_loss: 0.4366 - val_acc: 0.8012\n",
      "Epoch 5/10\n",
      "17462/17462 [==============================] - 126s 7ms/step - loss: 0.3922 - acc: 0.8233 - val_loss: 0.4372 - val_acc: 0.7998\n",
      "Epoch 6/10\n",
      "17462/17462 [==============================] - 133s 8ms/step - loss: 0.3588 - acc: 0.8389 - val_loss: 0.4190 - val_acc: 0.8156\n",
      "Epoch 7/10\n",
      "17462/17462 [==============================] - 125s 7ms/step - loss: 0.3273 - acc: 0.8545 - val_loss: 0.3794 - val_acc: 0.8346\n",
      "Epoch 8/10\n",
      "17462/17462 [==============================] - 123s 7ms/step - loss: 0.2924 - acc: 0.8713 - val_loss: 0.3767 - val_acc: 0.8359\n",
      "Epoch 9/10\n",
      "17462/17462 [==============================] - 123s 7ms/step - loss: 0.2696 - acc: 0.8837 - val_loss: 0.3742 - val_acc: 0.8385\n",
      "Epoch 10/10\n",
      "17462/17462 [==============================] - 122s 7ms/step - loss: 0.2416 - acc: 0.8989 - val_loss: 0.3842 - val_acc: 0.8369\n"
     ]
    }
   ],
   "source": [
    "create_model()"
   ]
  },
  {
   "cell_type": "code",
   "execution_count": 2,
   "metadata": {},
   "outputs": [
    {
     "name": "stderr",
     "output_type": "stream",
     "text": [
      "E:\\Anaconda\\lib\\site-packages\\h5py\\__init__.py:36: FutureWarning: Conversion of the second argument of issubdtype from `float` to `np.floating` is deprecated. In future, it will be treated as `np.float64 == np.dtype(float).type`.\n",
      "  from ._conv import register_converters as _register_converters\n"
     ]
    }
   ],
   "source": [
    "import cv2\n",
    "import tensorflow as tf\n",
    "\n",
    "CATEGORIES = [\"Dog\", \"Cat\"]  # will use this to convert prediction num to string value\n",
    "\n",
    "\n",
    "def prepare(filepath):\n",
    "    IMG_SIZE = 100  # 50 in txt-based\n",
    "    img_array = cv2.imread(filepath, cv2.IMREAD_GRAYSCALE)  # read in the image, convert to grayscale\n",
    "    new_array = cv2.resize(img_array, (IMG_SIZE, IMG_SIZE))  # resize image to match model's expected sizing\n",
    "    return new_array.reshape(-1, IMG_SIZE, IMG_SIZE, 1)  # return the image with shaping that TF wants."
   ]
  },
  {
   "cell_type": "code",
   "execution_count": null,
   "metadata": {},
   "outputs": [],
   "source": [
    "model = tf.keras.models.load_model(\"64x3-CNN.model\")\n",
    "prediction = model.predict([prepare('dog.jpg')])  # REMEMBER YOU'RE PASSING A LIST OF THINGS YOU WISH TO PREDICT\n",
    "image = cv2.imread('dog.jpg',0)\n",
    "cv2.imshow('image',image)\n",
    "print(CATEGORIES[int(prediction[0][0])])\n",
    "cv2.waitKey(0)\n",
    "cv2.destroyAllWindows()"
   ]
  },
  {
   "cell_type": "code",
   "execution_count": null,
   "metadata": {},
   "outputs": [],
   "source": []
  }
 ],
 "metadata": {
  "kernelspec": {
   "display_name": "Python 3",
   "language": "python",
   "name": "python3"
  },
  "language_info": {
   "codemirror_mode": {
    "name": "ipython",
    "version": 3
   },
   "file_extension": ".py",
   "mimetype": "text/x-python",
   "name": "python",
   "nbconvert_exporter": "python",
   "pygments_lexer": "ipython3",
   "version": "3.6.5"
  }
 },
 "nbformat": 4,
 "nbformat_minor": 2
}
