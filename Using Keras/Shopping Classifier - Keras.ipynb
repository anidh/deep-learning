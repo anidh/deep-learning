{
 "cells": [
  {
   "cell_type": "code",
   "execution_count": 1,
   "metadata": {},
   "outputs": [
    {
     "name": "stderr",
     "output_type": "stream",
     "text": [
      "E:\\Anaconda\\lib\\site-packages\\h5py\\__init__.py:36: FutureWarning: Conversion of the second argument of issubdtype from `float` to `np.floating` is deprecated. In future, it will be treated as `np.float64 == np.dtype(float).type`.\n",
      "  from ._conv import register_converters as _register_converters\n"
     ]
    },
    {
     "name": "stdout",
     "output_type": "stream",
     "text": [
      "Tensorflow version -->1.12.0\n"
     ]
    }
   ],
   "source": [
    "import numpy as np\n",
    "import tensorflow as tf\n",
    "from tensorflow import keras\n",
    "print(\"Tensorflow version -->\"+str(tf.__version__))\n",
    "import matplotlib.pyplot as plt\n",
    "%matplotlib inline\n",
    "import math"
   ]
  },
  {
   "cell_type": "code",
   "execution_count": 2,
   "metadata": {},
   "outputs": [],
   "source": [
    "fashion_mnist = keras.datasets.fashion_mnist\n",
    "(X_train, Y_train), (X_test, Y_test) = fashion_mnist.load_data()"
   ]
  },
  {
   "cell_type": "code",
   "execution_count": 3,
   "metadata": {},
   "outputs": [
    {
     "name": "stdout",
     "output_type": "stream",
     "text": [
      "The train images are of shape X--> (60000, 28, 28) & Y--> (60000,)\n",
      "The test images are of shape X--> (10000, 28, 28) & Y--> (10000,)\n"
     ]
    }
   ],
   "source": [
    "#Now visualizing the shapes of the labels\n",
    "print(\"The train images are of shape X--> {} & Y--> {}\".format(X_train.shape,Y_train.shape))\n",
    "print(\"The test images are of shape X--> {} & Y--> {}\".format(X_test.shape,Y_test.shape))"
   ]
  },
  {
   "cell_type": "code",
   "execution_count": 4,
   "metadata": {},
   "outputs": [
    {
     "data": {
      "image/png": "[encoded data removed]",
      "text/plain": [
       "<Figure size 432x288 with 2 Axes>"
      ]
     },
     "metadata": {},
     "output_type": "display_data"
    }
   ],
   "source": [
    "plt.figure()\n",
    "plt.imshow(X_train[1])\n",
    "plt.colorbar()\n",
    "plt.grid(False)"
   ]
  },
  {
   "cell_type": "code",
   "execution_count": 5,
   "metadata": {},
   "outputs": [],
   "source": [
    "#Scaling and standardzing the images\n",
    "from tensorflow.keras.utils import normalize\n",
    "X_train=normalize(X_train,axis=1)\n",
    "X_test=normalize(X_test,axis=1)"
   ]
  },
  {
   "cell_type": "code",
   "execution_count": 6,
   "metadata": {},
   "outputs": [],
   "source": [
    "#Now ddefining the model\n",
    "model=tf.keras.models.Sequential()\n",
    "model.add(tf.keras.layers.Flatten(input_shape=(28, 28)))\n",
    "model.add(tf.keras.layers.Dense(128,activation=tf.nn.relu))\n",
    "tf.keras.layers.Dropout(0.2)\n",
    "model.add(tf.keras.layers.Dense(128,activation=tf.nn.relu))\n",
    "tf.keras.layers.Dropout(0.2)\n",
    "model.add(tf.keras.layers.Dense(10,activation=tf.nn.softmax))"
   ]
  },
  {
   "cell_type": "code",
   "execution_count": 7,
   "metadata": {},
   "outputs": [
    {
     "name": "stdout",
     "output_type": "stream",
     "text": [
      "Epoch 1/100\n",
      "60000/60000 [==============================] - 21s 345us/step - loss: 0.4864 - acc: 0.8224\n",
      "Epoch 2/100\n",
      "60000/60000 [==============================] - 12s 202us/step - loss: 0.3538 - acc: 0.8691\n",
      "Epoch 3/100\n",
      "60000/60000 [==============================] - 12s 195us/step - loss: 0.3176 - acc: 0.8819\n",
      "Epoch 4/100\n",
      "60000/60000 [==============================] - 13s 212us/step - loss: 0.2951 - acc: 0.8890\n",
      "Epoch 5/100\n",
      "60000/60000 [==============================] - 12s 205us/step - loss: 0.2768 - acc: 0.8957\n",
      "Epoch 6/100\n",
      "60000/60000 [==============================] - 14s 234us/step - loss: 0.2600 - acc: 0.9015\n",
      "Epoch 7/100\n",
      "60000/60000 [==============================] - 15s 249us/step - loss: 0.2489 - acc: 0.9051\n",
      "Epoch 8/100\n",
      "60000/60000 [==============================] - 14s 242us/step - loss: 0.2347 - acc: 0.9104\n",
      "Epoch 9/100\n",
      "60000/60000 [==============================] - 15s 242us/step - loss: 0.2249 - acc: 0.9141\n",
      "Epoch 10/100\n",
      "60000/60000 [==============================] - 14s 235us/step - loss: 0.2159 - acc: 0.9186\n",
      "Epoch 11/100\n",
      "60000/60000 [==============================] - 12s 192us/step - loss: 0.2067 - acc: 0.9212\n",
      "Epoch 12/100\n",
      "60000/60000 [==============================] - 11s 192us/step - loss: 0.1985 - acc: 0.9245\n",
      "Epoch 13/100\n",
      "60000/60000 [==============================] - 11s 191us/step - loss: 0.1897 - acc: 0.9273\n",
      "Epoch 14/100\n",
      "60000/60000 [==============================] - 12s 194us/step - loss: 0.1820 - acc: 0.9302\n",
      "Epoch 15/100\n",
      "60000/60000 [==============================] - 12s 204us/step - loss: 0.1759 - acc: 0.9331\n",
      "Epoch 16/100\n",
      "60000/60000 [==============================] - 12s 192us/step - loss: 0.1678 - acc: 0.9365\n",
      "Epoch 17/100\n",
      "60000/60000 [==============================] - 11s 190us/step - loss: 0.1618 - acc: 0.9384\n",
      "Epoch 18/100\n",
      "60000/60000 [==============================] - 11s 189us/step - loss: 0.1579 - acc: 0.9398\n",
      "Epoch 19/100\n",
      "60000/60000 [==============================] - 11s 191us/step - loss: 0.1520 - acc: 0.9419\n",
      "Epoch 20/100\n",
      "60000/60000 [==============================] - 13s 221us/step - loss: 0.1439 - acc: 0.9452\n",
      "Epoch 21/100\n",
      "60000/60000 [==============================] - ETA: 0s - loss: 0.1433 - acc: 0.9459- ETA: 1s - loss: - 14s 231us/step - loss: 0.1433 - acc: 0.9459\n",
      "Epoch 22/100\n",
      "60000/60000 [==============================] - 12s 204us/step - loss: 0.1355 - acc: 0.9486\n",
      "Epoch 23/100\n",
      "60000/60000 [==============================] - 12s 195us/step - loss: 0.1312 - acc: 0.9497\n",
      "Epoch 24/100\n",
      "60000/60000 [==============================] - 12s 195us/step - loss: 0.1275 - acc: 0.9516\n",
      "Epoch 25/100\n",
      "60000/60000 [==============================] - 13s 209us/step - loss: 0.1218 - acc: 0.9536\n",
      "Epoch 26/100\n",
      "60000/60000 [==============================] - 12s 192us/step - loss: 0.1210 - acc: 0.9541\n",
      "Epoch 27/100\n",
      "60000/60000 [==============================] - 12s 198us/step - loss: 0.1148 - acc: 0.9565\n",
      "Epoch 28/100\n",
      "60000/60000 [==============================] - 12s 195us/step - loss: 0.1113 - acc: 0.9572\n",
      "Epoch 29/100\n",
      "60000/60000 [==============================] - 11s 191us/step - loss: 0.1099 - acc: 0.9581\n",
      "Epoch 30/100\n",
      "60000/60000 [==============================] - 12s 207us/step - loss: 0.1040 - acc: 0.9612\n",
      "Epoch 31/100\n",
      "60000/60000 [==============================] - 12s 205us/step - loss: 0.1030 - acc: 0.9611\n",
      "Epoch 32/100\n",
      "60000/60000 [==============================] - 11s 192us/step - loss: 0.0995 - acc: 0.9627\n",
      "Epoch 33/100\n",
      "60000/60000 [==============================] - 12s 192us/step - loss: 0.0970 - acc: 0.9625\n",
      "Epoch 34/100\n",
      "60000/60000 [==============================] - 12s 192us/step - loss: 0.0933 - acc: 0.9645\n",
      "Epoch 35/100\n",
      "60000/60000 [==============================] - 12s 203us/step - loss: 0.0916 - acc: 0.9661\n",
      "Epoch 36/100\n",
      "60000/60000 [==============================] - 11s 190us/step - loss: 0.0908 - acc: 0.9659\n",
      "Epoch 37/100\n",
      "60000/60000 [==============================] - 11s 191us/step - loss: 0.0838 - acc: 0.9688\n",
      "Epoch 38/100\n",
      "60000/60000 [==============================] - 11s 192us/step - loss: 0.0844 - acc: 0.9685\n",
      "Epoch 39/100\n",
      "60000/60000 [==============================] - 12s 196us/step - loss: 0.0831 - acc: 0.9685\n",
      "Epoch 40/100\n",
      "60000/60000 [==============================] - 15s 247us/step - loss: 0.0777 - acc: 0.9702\n",
      "Epoch 41/100\n",
      "60000/60000 [==============================] - 13s 219us/step - loss: 0.0789 - acc: 0.9701\n",
      "Epoch 42/100\n",
      "60000/60000 [==============================] - 13s 220us/step - loss: 0.0751 - acc: 0.9716\n",
      "Epoch 43/100\n",
      "60000/60000 [==============================] - 13s 220us/step - loss: 0.0738 - acc: 0.9722\n",
      "Epoch 44/100\n",
      "60000/60000 [==============================] - 14s 236us/step - loss: 0.0727 - acc: 0.9730\n",
      "Epoch 45/100\n",
      "60000/60000 [==============================] - 14s 228us/step - loss: 0.0708 - acc: 0.9733\n",
      "Epoch 46/100\n",
      "60000/60000 [==============================] - 13s 221us/step - loss: 0.0710 - acc: 0.9733\n",
      "Epoch 47/100\n",
      "60000/60000 [==============================] - 14s 227us/step - loss: 0.0696 - acc: 0.9739\n",
      "Epoch 48/100\n",
      "60000/60000 [==============================] - 13s 219us/step - loss: 0.0679 - acc: 0.9739\n",
      "Epoch 49/100\n",
      "60000/60000 [==============================] - 14s 232us/step - loss: 0.0642 - acc: 0.9757\n",
      "Epoch 50/100\n",
      "60000/60000 [==============================] - 13s 216us/step - loss: 0.0644 - acc: 0.9764\n",
      "Epoch 51/100\n",
      "60000/60000 [==============================] - 13s 219us/step - loss: 0.0646 - acc: 0.9759\n",
      "Epoch 52/100\n",
      "60000/60000 [==============================] - 13s 219us/step - loss: 0.0599 - acc: 0.9775\n",
      "Epoch 53/100\n",
      "60000/60000 [==============================] - 13s 223us/step - loss: 0.0580 - acc: 0.9785\n",
      "Epoch 54/100\n",
      "60000/60000 [==============================] - 14s 226us/step - loss: 0.0613 - acc: 0.9764\n",
      "Epoch 55/100\n",
      "60000/60000 [==============================] - 13s 218us/step - loss: 0.0583 - acc: 0.9784\n",
      "Epoch 56/100\n",
      "60000/60000 [==============================] - 13s 224us/step - loss: 0.0565 - acc: 0.9789\n",
      "Epoch 57/100\n",
      "60000/60000 [==============================] - 15s 242us/step - loss: 0.0570 - acc: 0.9777\n",
      "Epoch 58/100\n",
      "60000/60000 [==============================] - 16s 266us/step - loss: 0.0534 - acc: 0.9803\n",
      "Epoch 59/100\n",
      "60000/60000 [==============================] - 14s 231us/step - loss: 0.0524 - acc: 0.9807\n",
      "Epoch 60/100\n",
      "60000/60000 [==============================] - 14s 231us/step - loss: 0.0511 - acc: 0.9812\n",
      "Epoch 61/100\n",
      "60000/60000 [==============================] - 14s 231us/step - loss: 0.0532 - acc: 0.9796\n",
      "Epoch 62/100\n",
      "60000/60000 [==============================] - 15s 248us/step - loss: 0.0502 - acc: 0.9810\n",
      "Epoch 63/100\n",
      "60000/60000 [==============================] - 14s 231us/step - loss: 0.0544 - acc: 0.9798\n",
      "Epoch 64/100\n",
      "60000/60000 [==============================] - 14s 233us/step - loss: 0.0486 - acc: 0.9818\n",
      "Epoch 65/100\n",
      "60000/60000 [==============================] - 14s 233us/step - loss: 0.0485 - acc: 0.9824\n",
      "Epoch 66/100\n",
      "60000/60000 [==============================] - 16s 262us/step - loss: 0.0512 - acc: 0.9810\n",
      "Epoch 67/100\n",
      "60000/60000 [==============================] - 14s 235us/step - loss: 0.0461 - acc: 0.9827\n",
      "Epoch 68/100\n",
      "60000/60000 [==============================] - 14s 235us/step - loss: 0.0490 - acc: 0.9817\n",
      "Epoch 69/100\n",
      "60000/60000 [==============================] - 14s 232us/step - loss: 0.0444 - acc: 0.9835\n",
      "Epoch 70/100\n",
      "60000/60000 [==============================] - 14s 241us/step - loss: 0.0442 - acc: 0.9831\n",
      "Epoch 71/100\n",
      "60000/60000 [==============================] - 14s 240us/step - loss: 0.0459 - acc: 0.9829\n",
      "Epoch 72/100\n",
      "60000/60000 [==============================] - 14s 234us/step - loss: 0.0426 - acc: 0.9844\n",
      "Epoch 73/100\n",
      "60000/60000 [==============================] - 14s 235us/step - loss: 0.0437 - acc: 0.9832\n",
      "Epoch 74/100\n",
      "60000/60000 [==============================] - 14s 233us/step - loss: 0.0453 - acc: 0.9830\n",
      "Epoch 75/100\n",
      "60000/60000 [==============================] - 15s 251us/step - loss: 0.0422 - acc: 0.9847\n",
      "Epoch 76/100\n",
      "60000/60000 [==============================] - ETA: 0s - loss: 0.0436 - acc: 0.983 - 14s 234us/step - loss: 0.0436 - acc: 0.9836\n",
      "Epoch 77/100\n",
      "60000/60000 [==============================] - 14s 233us/step - loss: 0.0398 - acc: 0.9853\n",
      "Epoch 78/100\n",
      "60000/60000 [==============================] - 14s 232us/step - loss: 0.0383 - acc: 0.9856\n"
     ]
    },
    {
     "name": "stdout",
     "output_type": "stream",
     "text": [
      "Epoch 79/100\n",
      "60000/60000 [==============================] - 14s 226us/step - loss: 0.0431 - acc: 0.9846\n",
      "Epoch 80/100\n",
      "60000/60000 [==============================] - 13s 213us/step - loss: 0.0400 - acc: 0.9856\n",
      "Epoch 81/100\n",
      "60000/60000 [==============================] - 13s 213us/step - loss: 0.0382 - acc: 0.9864\n",
      "Epoch 82/100\n",
      "60000/60000 [==============================] - 13s 214us/step - loss: 0.0384 - acc: 0.9859\n",
      "Epoch 83/100\n",
      "60000/60000 [==============================] - 13s 222us/step - loss: 0.0378 - acc: 0.9865\n",
      "Epoch 84/100\n",
      "60000/60000 [==============================] - 13s 224us/step - loss: 0.0404 - acc: 0.9849\n",
      "Epoch 85/100\n",
      "60000/60000 [==============================] - 13s 215us/step - loss: 0.0355 - acc: 0.9871\n",
      "Epoch 86/100\n",
      "60000/60000 [==============================] - 13s 217us/step - loss: 0.0355 - acc: 0.9867\n",
      "Epoch 87/100\n",
      "60000/60000 [==============================] - 13s 219us/step - loss: 0.0409 - acc: 0.9856\n",
      "Epoch 88/100\n",
      "60000/60000 [==============================] - 14s 228us/step - loss: 0.0350 - acc: 0.9875\n",
      "Epoch 89/100\n",
      "60000/60000 [==============================] - 13s 214us/step - loss: 0.0370 - acc: 0.9862\n",
      "Epoch 90/100\n",
      "60000/60000 [==============================] - 13s 215us/step - loss: 0.0366 - acc: 0.9872\n",
      "Epoch 91/100\n",
      "60000/60000 [==============================] - 13s 215us/step - loss: 0.0390 - acc: 0.9864\n",
      "Epoch 92/100\n",
      "60000/60000 [==============================] - 13s 221us/step - loss: 0.0337 - acc: 0.9875\n",
      "Epoch 93/100\n",
      "60000/60000 [==============================] - 14s 241us/step - loss: 0.0336 - acc: 0.9877\n",
      "Epoch 94/100\n",
      "60000/60000 [==============================] - 13s 215us/step - loss: 0.0348 - acc: 0.9872\n",
      "Epoch 95/100\n",
      "60000/60000 [==============================] - 13s 216us/step - loss: 0.0351 - acc: 0.9873\n",
      "Epoch 96/100\n",
      "60000/60000 [==============================] - 13s 216us/step - loss: 0.0351 - acc: 0.9876\n",
      "Epoch 97/100\n",
      "60000/60000 [==============================] - 14s 233us/step - loss: 0.0323 - acc: 0.9885\n",
      "Epoch 98/100\n",
      "60000/60000 [==============================] - 13s 223us/step - loss: 0.0328 - acc: 0.9881\n",
      "Epoch 99/100\n",
      "60000/60000 [==============================] - 13s 216us/step - loss: 0.0337 - acc: 0.9881\n",
      "Epoch 100/100\n",
      "60000/60000 [==============================] - 13s 224us/step - loss: 0.0329 - acc: 0.9882\n"
     ]
    },
    {
     "data": {
      "text/plain": [
       "<tensorflow.python.keras.callbacks.History at 0x1e44d284f98>"
      ]
     },
     "execution_count": 7,
     "metadata": {},
     "output_type": "execute_result"
    }
   ],
   "source": [
    "#Now defining the parameters which we will use\n",
    "model.compile(optimizer=\"adam\",loss=\"sparse_categorical_crossentropy\",metrics=[\"accuracy\"])\n",
    "model.fit(X_train,Y_train,epochs=100)"
   ]
  },
  {
   "cell_type": "code",
   "execution_count": 8,
   "metadata": {},
   "outputs": [
    {
     "name": "stdout",
     "output_type": "stream",
     "text": [
      "10000/10000 [==============================] - 1s 116us/step\n",
      "Testing Loss 0.8590432732835412 and Accuracy 0.8838\n"
     ]
    }
   ],
   "source": [
    "val_loss,val_acc=model.evaluate(X_test,Y_test)\n",
    "print(\"Testing Loss {} and Accuracy {}\".format(val_loss,val_acc))"
   ]
  },
  {
   "cell_type": "code",
   "execution_count": 10,
   "metadata": {},
   "outputs": [
    {
     "name": "stdout",
     "output_type": "stream",
     "text": [
      "9\n"
     ]
    },
    {
     "data": {
      "text/plain": [
       "<matplotlib.image.AxesImage at 0x1e519f6d9b0>"
      ]
     },
     "execution_count": 10,
     "metadata": {},
     "output_type": "execute_result"
    },
    {
     "data": {
      "image/png": "[encoded data removed]",
      "text/plain": [
       "<Figure size 432x288 with 1 Axes>"
      ]
     },
     "metadata": {},
     "output_type": "display_data"
    }
   ],
   "source": [
    "#Saving and loading the model\n",
    "model.save(\"Shopping_Category_86_accuracy_no_dropouts\")\n",
    "#Loading the model\n",
    "new_model=tf.keras.models.load_model(\"Shopping_Category_86_accuracy_no_dropouts\")\n",
    "prediction=new_model.predict([X_test])\n",
    "print(np.argmax(prediction[0]))\n",
    "plt.imshow(X_test[0])"
   ]
  },
  {
   "cell_type": "code",
   "execution_count": null,
   "metadata": {},
   "outputs": [],
   "source": []
  }
 ],
 "metadata": {
  "kernelspec": {
   "display_name": "Python 3",
   "language": "python",
   "name": "python3"
  },
  "language_info": {
   "codemirror_mode": {
    "name": "ipython",
    "version": 3
   },
   "file_extension": ".py",
   "mimetype": "text/x-python",
   "name": "python",
   "nbconvert_exporter": "python",
   "pygments_lexer": "ipython3",
   "version": "3.6.5"
  }
 },
 "nbformat": 4,
 "nbformat_minor": 2
}
