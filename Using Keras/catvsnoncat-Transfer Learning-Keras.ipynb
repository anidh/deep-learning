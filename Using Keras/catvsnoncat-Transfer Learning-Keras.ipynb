{
 "cells": [
  {
   "cell_type": "code",
   "execution_count": 1,
   "metadata": {},
   "outputs": [
    {
     "name": "stderr",
     "output_type": "stream",
     "text": [
      "E:\\Anaconda\\lib\\site-packages\\h5py\\__init__.py:36: FutureWarning: Conversion of the second argument of issubdtype from `float` to `np.floating` is deprecated. In future, it will be treated as `np.float64 == np.dtype(float).type`.\n",
      "  from ._conv import register_converters as _register_converters\n"
     ]
    }
   ],
   "source": [
    "import tensorflow as tf\n",
    "from tensorflow.keras.applications import VGG16\n",
    "from tensorflow.keras.preprocessing import image\n",
    "from tensorflow.keras.applications.vgg16 import preprocess_input,decode_predictions\n",
    "import h5py\n",
    "from tensorflow.keras.layers import Input,GlobalAveragePooling2D,Dense,Flatten,GlobalMaxPooling2D\n",
    "from tensorflow.keras.models import Model,Sequential"
   ]
  },
  {
   "cell_type": "code",
   "execution_count": 2,
   "metadata": {},
   "outputs": [
    {
     "name": "stdout",
     "output_type": "stream",
     "text": [
      "The total number of training examples are 209\n",
      "The total number of testing examples are 50\n",
      "The shape of Features for training set is (209, 64, 64, 3)\n",
      "The shape of Labels for training set is (209,)\n",
      "The shape of Features for testing set is (50, 64, 64, 3)\n",
      "The shape of Labels for testing set is (50,)\n",
      "[b'non-cat' b'cat']\n"
     ]
    }
   ],
   "source": [
    "#Now loading the data using the h5py file\n",
    "testFileName=\"test_catvnoncat.h5\"\n",
    "fileTest=h5py.File(testFileName,\"r\")\n",
    "trainFileName=\"train_catvnoncat.h5\"\n",
    "fileTrain=h5py.File(trainFileName,\"r\")\n",
    "X_test=fileTest[\"test_set_x\"].value\n",
    "Y_test=fileTest[\"test_set_y\"].value\n",
    "listclass=fileTest[\"list_classes\"].value\n",
    "X_train=fileTrain[\"train_set_x\"].value\n",
    "Y_train=fileTrain[\"train_set_y\"].value\n",
    "print(\"The total number of training examples are {}\".format(X_train.shape[0]))\n",
    "print(\"The total number of testing examples are {}\".format(X_test.shape[0]))\n",
    "print(\"The shape of Features for training set is {}\".format(X_train.shape))\n",
    "print(\"The shape of Labels for training set is {}\".format(Y_train.shape))\n",
    "print(\"The shape of Features for testing set is {}\".format(X_test.shape))\n",
    "print(\"The shape of Labels for testing set is {}\".format(Y_test.shape))\n",
    "print(listclass)"
   ]
  },
  {
   "cell_type": "code",
   "execution_count": 3,
   "metadata": {},
   "outputs": [],
   "source": [
    "base_model  = VGG16(weights='imagenet',include_top=False,input_shape=(64,64,3))\n",
    "# add a global spatial average pooling layer\n",
    "x = base_model.output\n",
    "x = GlobalMaxPooling2D()(x)\n",
    "#flatten = Flatten()\n",
    "# let's add a fully-connected layer\n",
    "x = Dense(64, activation='relu')(x)\n",
    "# and a logistic layer -- let's say we have 1 classes\n",
    "predictions = Dense(1, activation='sigmoid')(x)\n",
    "# this is the model we will train\n",
    "model = Model(inputs=base_model.input, outputs=predictions)\n"
   ]
  },
  {
   "cell_type": "code",
   "execution_count": 4,
   "metadata": {},
   "outputs": [],
   "source": [
    "for layer in base_model.layers:\n",
    "    layer.trainable = False"
   ]
  },
  {
   "cell_type": "code",
   "execution_count": 5,
   "metadata": {},
   "outputs": [
    {
     "name": "stdout",
     "output_type": "stream",
     "text": [
      "Epoch 1/50\n",
      "209/209 [==============================] - 7s 35ms/step - loss: 5.2603\n",
      "Epoch 2/50\n",
      "209/209 [==============================] - 1s 6ms/step - loss: 2.3341\n",
      "Epoch 3/50\n",
      "209/209 [==============================] - 1s 6ms/step - loss: 1.3612\n",
      "Epoch 4/50\n",
      "209/209 [==============================] - 1s 6ms/step - loss: 0.7724\n",
      "Epoch 5/50\n",
      "209/209 [==============================] - 1s 6ms/step - loss: 0.3806\n",
      "Epoch 6/50\n",
      "209/209 [==============================] - 1s 6ms/step - loss: 0.1938\n",
      "Epoch 7/50\n",
      "209/209 [==============================] - 1s 6ms/step - loss: 0.1547\n",
      "Epoch 8/50\n",
      "209/209 [==============================] - 1s 6ms/step - loss: 0.1555\n",
      "Epoch 9/50\n",
      "209/209 [==============================] - 1s 6ms/step - loss: 0.1548\n",
      "Epoch 10/50\n",
      "209/209 [==============================] - 1s 6ms/step - loss: 0.1542\n",
      "Epoch 11/50\n",
      "209/209 [==============================] - 1s 6ms/step - loss: 0.1538\n",
      "Epoch 12/50\n",
      "209/209 [==============================] - 1s 6ms/step - loss: 0.1537\n",
      "Epoch 13/50\n",
      "209/209 [==============================] - 1s 6ms/step - loss: 0.1536\n",
      "Epoch 14/50\n",
      "209/209 [==============================] - 1s 6ms/step - loss: 0.1536\n",
      "Epoch 15/50\n",
      "209/209 [==============================] - 1s 6ms/step - loss: 0.1536\n",
      "Epoch 16/50\n",
      "209/209 [==============================] - 1s 6ms/step - loss: 0.1535\n",
      "Epoch 17/50\n",
      "209/209 [==============================] - 1s 6ms/step - loss: 0.1535\n",
      "Epoch 18/50\n",
      "209/209 [==============================] - 1s 6ms/step - loss: 0.1535\n",
      "Epoch 19/50\n",
      "209/209 [==============================] - 1s 6ms/step - loss: 0.1535\n",
      "Epoch 20/50\n",
      "209/209 [==============================] - 1s 6ms/step - loss: 0.1535\n",
      "Epoch 21/50\n",
      "209/209 [==============================] - 1s 6ms/step - loss: 0.1535\n",
      "Epoch 22/50\n",
      "209/209 [==============================] - 1s 6ms/step - loss: 0.1535\n",
      "Epoch 23/50\n",
      "209/209 [==============================] - 1s 6ms/step - loss: 0.1535\n",
      "Epoch 24/50\n",
      "209/209 [==============================] - 1s 6ms/step - loss: 0.1535\n",
      "Epoch 25/50\n",
      "209/209 [==============================] - 1s 6ms/step - loss: 0.1535\n",
      "Epoch 26/50\n",
      "209/209 [==============================] - 1s 6ms/step - loss: 0.1535\n",
      "Epoch 27/50\n",
      "209/209 [==============================] - 1s 6ms/step - loss: 0.1535\n",
      "Epoch 28/50\n",
      "209/209 [==============================] - 1s 6ms/step - loss: 0.1535\n",
      "Epoch 29/50\n",
      "209/209 [==============================] - 1s 6ms/step - loss: 0.1535\n",
      "Epoch 30/50\n",
      "209/209 [==============================] - 1s 6ms/step - loss: 0.1535\n",
      "Epoch 31/50\n",
      "209/209 [==============================] - 1s 6ms/step - loss: 0.1535\n",
      "Epoch 32/50\n",
      "209/209 [==============================] - 1s 6ms/step - loss: 0.1535\n",
      "Epoch 33/50\n",
      "209/209 [==============================] - 1s 6ms/step - loss: 0.1535\n",
      "Epoch 34/50\n",
      "209/209 [==============================] - 1s 6ms/step - loss: 0.1535\n",
      "Epoch 35/50\n",
      "209/209 [==============================] - 1s 6ms/step - loss: 0.1535\n",
      "Epoch 36/50\n",
      "209/209 [==============================] - 1s 6ms/step - loss: 0.1535\n",
      "Epoch 37/50\n",
      "209/209 [==============================] - 1s 6ms/step - loss: 0.1535\n",
      "Epoch 38/50\n",
      "209/209 [==============================] - 1s 6ms/step - loss: 0.1535\n",
      "Epoch 39/50\n",
      "209/209 [==============================] - 1s 6ms/step - loss: 0.1535\n",
      "Epoch 40/50\n",
      "209/209 [==============================] - 1s 6ms/step - loss: 0.1535\n",
      "Epoch 41/50\n",
      "209/209 [==============================] - 1s 6ms/step - loss: 0.1535\n",
      "Epoch 42/50\n",
      "209/209 [==============================] - 1s 6ms/step - loss: 0.1535\n",
      "Epoch 43/50\n",
      "209/209 [==============================] - 1s 6ms/step - loss: 0.1535\n",
      "Epoch 44/50\n",
      "209/209 [==============================] - 1s 6ms/step - loss: 0.1535\n",
      "Epoch 45/50\n",
      "209/209 [==============================] - 1s 6ms/step - loss: 0.1535\n",
      "Epoch 46/50\n",
      "209/209 [==============================] - 1s 6ms/step - loss: 0.1535\n",
      "Epoch 47/50\n",
      "209/209 [==============================] - 1s 6ms/step - loss: 0.1535\n",
      "Epoch 48/50\n",
      "209/209 [==============================] - 1s 6ms/step - loss: 0.1535\n",
      "Epoch 49/50\n",
      "209/209 [==============================] - 1s 6ms/step - loss: 0.1534\n",
      "Epoch 50/50\n",
      "209/209 [==============================] - 1s 6ms/step - loss: 0.1534\n"
     ]
    },
    {
     "data": {
      "text/plain": [
       "<tensorflow.python.keras.callbacks.History at 0x1a10ec8af98>"
      ]
     },
     "execution_count": 5,
     "metadata": {},
     "output_type": "execute_result"
    }
   ],
   "source": [
    "model.compile(optimizer='adam', loss='binary_crossentropy')\n",
    "model.fit(X_train,Y_train,batch_size=32,epochs=50,shuffle=True)"
   ]
  },
  {
   "cell_type": "code",
   "execution_count": 6,
   "metadata": {},
   "outputs": [
    {
     "name": "stdout",
     "output_type": "stream",
     "text": [
      "0 input_1\n",
      "1 block1_conv1\n",
      "2 block1_conv2\n",
      "3 block1_pool\n",
      "4 block2_conv1\n",
      "5 block2_conv2\n",
      "6 block2_pool\n",
      "7 block3_conv1\n",
      "8 block3_conv2\n",
      "9 block3_conv3\n",
      "10 block3_pool\n",
      "11 block4_conv1\n",
      "12 block4_conv2\n",
      "13 block4_conv3\n",
      "14 block4_pool\n",
      "15 block5_conv1\n",
      "16 block5_conv2\n",
      "17 block5_conv3\n",
      "18 block5_pool\n"
     ]
    }
   ],
   "source": [
    "for i, layer in enumerate(base_model.layers):\n",
    "   print(i, layer.name)"
   ]
  },
  {
   "cell_type": "code",
   "execution_count": 7,
   "metadata": {},
   "outputs": [],
   "source": [
    "# Freeze the layers except the last 4 layers\n",
    "for layer in model.layers[:-4]:\n",
    "    layer.trainable = False"
   ]
  },
  {
   "cell_type": "code",
   "execution_count": 8,
   "metadata": {},
   "outputs": [],
   "source": [
    "model.compile(optimizer=\"adam\", loss='binary_crossentropy',metrics=[\"accuracy\"])"
   ]
  },
  {
   "cell_type": "code",
   "execution_count": 9,
   "metadata": {},
   "outputs": [
    {
     "name": "stdout",
     "output_type": "stream",
     "text": [
      "Epoch 1/30\n",
      "209/209 [==============================] - 2s 8ms/step - loss: 0.1545 - acc: 0.9904A: 1s - loss: 0.2491 - acc: 0\n",
      "Epoch 2/30\n",
      "209/209 [==============================] - 1s 6ms/step - loss: 0.1534 - acc: 0.9904\n",
      "Epoch 3/30\n",
      "209/209 [==============================] - 1s 6ms/step - loss: 0.1535 - acc: 0.9904\n",
      "Epoch 4/30\n",
      "209/209 [==============================] - 1s 6ms/step - loss: 0.1534 - acc: 0.9904\n",
      "Epoch 5/30\n",
      "209/209 [==============================] - 1s 6ms/step - loss: 0.1534 - acc: 0.9904\n",
      "Epoch 6/30\n",
      "209/209 [==============================] - 1s 6ms/step - loss: 0.1534 - acc: 0.9904\n",
      "Epoch 7/30\n",
      "209/209 [==============================] - 1s 6ms/step - loss: 0.1534 - acc: 0.9904\n",
      "Epoch 8/30\n",
      "209/209 [==============================] - 1s 6ms/step - loss: 0.1534 - acc: 0.9904\n",
      "Epoch 9/30\n",
      "209/209 [==============================] - 1s 6ms/step - loss: 0.1534 - acc: 0.9904\n",
      "Epoch 10/30\n",
      "209/209 [==============================] - 1s 6ms/step - loss: 0.1534 - acc: 0.9904\n",
      "Epoch 11/30\n",
      "209/209 [==============================] - 1s 6ms/step - loss: 0.1534 - acc: 0.9904\n",
      "Epoch 12/30\n",
      "209/209 [==============================] - 1s 6ms/step - loss: 0.1534 - acc: 0.9904\n",
      "Epoch 13/30\n",
      "209/209 [==============================] - 1s 6ms/step - loss: 0.1534 - acc: 0.9904\n",
      "Epoch 14/30\n",
      "209/209 [==============================] - 1s 6ms/step - loss: 0.1534 - acc: 0.9904\n",
      "Epoch 15/30\n",
      "209/209 [==============================] - 1s 6ms/step - loss: 0.1534 - acc: 0.9904\n",
      "Epoch 16/30\n",
      "209/209 [==============================] - 1s 6ms/step - loss: 0.1534 - acc: 0.9904\n",
      "Epoch 17/30\n",
      "209/209 [==============================] - 1s 6ms/step - loss: 0.1534 - acc: 0.9904\n",
      "Epoch 18/30\n",
      "209/209 [==============================] - 1s 6ms/step - loss: 0.1534 - acc: 0.9904\n",
      "Epoch 19/30\n",
      "209/209 [==============================] - 1s 6ms/step - loss: 0.1534 - acc: 0.9904\n",
      "Epoch 20/30\n",
      "209/209 [==============================] - 1s 6ms/step - loss: 0.1534 - acc: 0.9904\n",
      "Epoch 21/30\n",
      "209/209 [==============================] - 1s 6ms/step - loss: 0.1534 - acc: 0.9904\n",
      "Epoch 22/30\n",
      "209/209 [==============================] - 1s 6ms/step - loss: 0.1534 - acc: 0.9904\n",
      "Epoch 23/30\n",
      "209/209 [==============================] - 1s 6ms/step - loss: 0.1534 - acc: 0.9904\n",
      "Epoch 24/30\n",
      "209/209 [==============================] - 1s 6ms/step - loss: 0.1534 - acc: 0.9904\n",
      "Epoch 25/30\n",
      "209/209 [==============================] - 1s 6ms/step - loss: 0.1534 - acc: 0.9904\n",
      "Epoch 26/30\n",
      "209/209 [==============================] - 1s 6ms/step - loss: 0.1534 - acc: 0.9904\n",
      "Epoch 27/30\n",
      "209/209 [==============================] - 1s 6ms/step - loss: 0.1534 - acc: 0.9904\n",
      "Epoch 28/30\n",
      "209/209 [==============================] - 1s 6ms/step - loss: 0.1534 - acc: 0.9904\n",
      "Epoch 29/30\n",
      "209/209 [==============================] - 1s 6ms/step - loss: 0.1534 - acc: 0.9904\n",
      "Epoch 30/30\n",
      "209/209 [==============================] - 1s 6ms/step - loss: 0.1534 - acc: 0.9904\n"
     ]
    },
    {
     "data": {
      "text/plain": [
       "<tensorflow.python.keras.callbacks.History at 0x1a10ed76a90>"
      ]
     },
     "execution_count": 9,
     "metadata": {},
     "output_type": "execute_result"
    }
   ],
   "source": [
    "model.fit(X_train,Y_train,epochs=30,shuffle=True,batch_size=32)"
   ]
  },
  {
   "cell_type": "code",
   "execution_count": 10,
   "metadata": {},
   "outputs": [
    {
     "name": "stdout",
     "output_type": "stream",
     "text": [
      "50/50 [==============================] - 2s 47ms/step\n"
     ]
    },
    {
     "data": {
      "text/plain": [
       "[1.6179353713989257, 0.8999999928474426]"
      ]
     },
     "execution_count": 10,
     "metadata": {},
     "output_type": "execute_result"
    }
   ],
   "source": [
    "model.evaluate(X_test,Y_test)"
   ]
  },
  {
   "cell_type": "code",
   "execution_count": 21,
   "metadata": {},
   "outputs": [
    {
     "data": {
      "image/png": "[encoded data removed]",
      "text/plain": [
       "<Figure size 432x288 with 1 Axes>"
      ]
     },
     "metadata": {},
     "output_type": "display_data"
    }
   ],
   "source": [
    "import matplotlib.pyplot as plt\n",
    "%matplotlib inline\n",
    "import cv2\n",
    "img=cv2.imread('cat.jpg')\n",
    "plt.imshow(img)\n",
    "plt.show()"
   ]
  },
  {
   "cell_type": "code",
   "execution_count": 22,
   "metadata": {},
   "outputs": [
    {
     "data": {
      "text/plain": [
       "(1, 64, 64, 3)"
      ]
     },
     "execution_count": 22,
     "metadata": {},
     "output_type": "execute_result"
    }
   ],
   "source": [
    "import cv2\n",
    "img = cv2.imread('cat.jpg')\n",
    "newimg=cv2.resize(img,(64,64))\n",
    "import numpy as np\n",
    "newimg=np.expand_dims(newimg,axis=0)\n",
    "newimg.shape"
   ]
  },
  {
   "cell_type": "code",
   "execution_count": 23,
   "metadata": {},
   "outputs": [
    {
     "data": {
      "text/plain": [
       "'Cat'"
      ]
     },
     "execution_count": 23,
     "metadata": {},
     "output_type": "execute_result"
    }
   ],
   "source": [
    "predictions=[\"NonCat\",\"Cat\"]\n",
    "predictions[int(model.predict(newimg)[0][0])]"
   ]
  },
  {
   "cell_type": "code",
   "execution_count": null,
   "metadata": {},
   "outputs": [],
   "source": []
  }
 ],
 "metadata": {
  "kernelspec": {
   "display_name": "Python 3",
   "language": "python",
   "name": "python3"
  },
  "language_info": {
   "codemirror_mode": {
    "name": "ipython",
    "version": 3
   },
   "file_extension": ".py",
   "mimetype": "text/x-python",
   "name": "python",
   "nbconvert_exporter": "python",
   "pygments_lexer": "ipython3",
   "version": "3.6.5"
  }
 },
 "nbformat": 4,
 "nbformat_minor": 2
}
