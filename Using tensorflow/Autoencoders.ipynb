{
 "cells": [
  {
   "cell_type": "code",
   "execution_count": 1,
   "metadata": {},
   "outputs": [
    {
     "name": "stdout",
     "output_type": "stream",
     "text": [
      "Open CV Version :3.4.4\n"
     ]
    },
    {
     "name": "stderr",
     "output_type": "stream",
     "text": [
      "E:\\Anaconda\\lib\\site-packages\\h5py\\__init__.py:36: FutureWarning: Conversion of the second argument of issubdtype from `float` to `np.floating` is deprecated. In future, it will be treated as `np.float64 == np.dtype(float).type`.\n",
      "  from ._conv import register_converters as _register_converters\n"
     ]
    },
    {
     "name": "stdout",
     "output_type": "stream",
     "text": [
      "Tensorflow Version :1.12.0\n",
      "WARNING:tensorflow:From <ipython-input-1-43a8049115b8>:11: read_data_sets (from tensorflow.contrib.learn.python.learn.datasets.mnist) is deprecated and will be removed in a future version.\n",
      "Instructions for updating:\n",
      "Please use alternatives such as official/mnist/dataset.py from tensorflow/models.\n",
      "WARNING:tensorflow:From E:\\Anaconda\\lib\\site-packages\\tensorflow\\contrib\\learn\\python\\learn\\datasets\\mnist.py:260: maybe_download (from tensorflow.contrib.learn.python.learn.datasets.base) is deprecated and will be removed in a future version.\n",
      "Instructions for updating:\n",
      "Please write your own downloading logic.\n",
      "WARNING:tensorflow:From E:\\Anaconda\\lib\\site-packages\\tensorflow\\contrib\\learn\\python\\learn\\datasets\\mnist.py:262: extract_images (from tensorflow.contrib.learn.python.learn.datasets.mnist) is deprecated and will be removed in a future version.\n",
      "Instructions for updating:\n",
      "Please use tf.data to implement this functionality.\n",
      "Extracting MNIST_data/train-images-idx3-ubyte.gz\n",
      "WARNING:tensorflow:From E:\\Anaconda\\lib\\site-packages\\tensorflow\\contrib\\learn\\python\\learn\\datasets\\mnist.py:267: extract_labels (from tensorflow.contrib.learn.python.learn.datasets.mnist) is deprecated and will be removed in a future version.\n",
      "Instructions for updating:\n",
      "Please use tf.data to implement this functionality.\n",
      "Extracting MNIST_data/train-labels-idx1-ubyte.gz\n",
      "WARNING:tensorflow:From E:\\Anaconda\\lib\\site-packages\\tensorflow\\contrib\\learn\\python\\learn\\datasets\\mnist.py:110: dense_to_one_hot (from tensorflow.contrib.learn.python.learn.datasets.mnist) is deprecated and will be removed in a future version.\n",
      "Instructions for updating:\n",
      "Please use tf.one_hot on tensors.\n",
      "Extracting MNIST_data/t10k-images-idx3-ubyte.gz\n",
      "Extracting MNIST_data/t10k-labels-idx1-ubyte.gz\n",
      "WARNING:tensorflow:From E:\\Anaconda\\lib\\site-packages\\tensorflow\\contrib\\learn\\python\\learn\\datasets\\mnist.py:290: DataSet.__init__ (from tensorflow.contrib.learn.python.learn.datasets.mnist) is deprecated and will be removed in a future version.\n",
      "Instructions for updating:\n",
      "Please use alternatives such as official/mnist/dataset.py from tensorflow/models.\n"
     ]
    }
   ],
   "source": [
    "import cv2\n",
    "print(\"Open CV Version :\"+str(cv2.__version__))\n",
    "import tensorflow as tf\n",
    "print(\"Tensorflow Version :\"+str(tf.__version__))\n",
    "import matplotlib.pyplot as plt\n",
    "%matplotlib inline\n",
    "import time as t\n",
    "import os\n",
    "import numpy as np\n",
    "from tensorflow.examples.tutorials.mnist import input_data\n",
    "mnist = input_data.read_data_sets(\"MNIST_data/\", one_hot=True)\n"
   ]
  },
  {
   "cell_type": "code",
   "execution_count": 2,
   "metadata": {},
   "outputs": [],
   "source": [
    "def show_reconstructed_digits(X, outputs, model_path = None, n_test_digits = 2):\n",
    "    with tf.Session() as sess:\n",
    "        if model_path:\n",
    "            saver.restore(sess, model_path)\n",
    "        X_test = mnist.test.images[:n_test_digits]\n",
    "        outputs_val = outputs.eval(feed_dict={X: X_test})\n",
    "\n",
    "    fig = plt.figure(figsize=(8, 3 * n_test_digits))\n",
    "    for digit_index in range(n_test_digits):\n",
    "        plt.subplot(n_test_digits, 2, digit_index * 2 + 1)\n",
    "        plot_image(X_test[digit_index])\n",
    "        plt.subplot(n_test_digits, 2, digit_index * 2 + 2)\n",
    "        plot_image(outputs_val[digit_index])"
   ]
  },
  {
   "cell_type": "code",
   "execution_count": 3,
   "metadata": {},
   "outputs": [],
   "source": [
    "def plot_image(image, shape=[28, 28]):\n",
    "    plt.imshow(image.reshape(shape), cmap=\"Greys\", interpolation=\"nearest\")\n",
    "    plt.axis(\"off\")"
   ]
  },
  {
   "cell_type": "markdown",
   "metadata": {},
   "source": [
    "## PCA With Neural Networks"
   ]
  },
  {
   "cell_type": "code",
   "execution_count": 4,
   "metadata": {},
   "outputs": [],
   "source": [
    "#Constructing our data\n",
    "import numpy.random as rnd\n",
    "\n",
    "rnd.seed(4)\n",
    "m = 200\n",
    "w1, w2 = 0.1, 0.3\n",
    "noise = 0.1\n",
    "\n",
    "angles = rnd.rand(m) * 3 * np.pi / 2 - 0.5\n",
    "data = np.empty((m, 3))\n",
    "data[:, 0] = np.cos(angles) + np.sin(angles)/2 + noise * rnd.randn(m) / 2\n",
    "data[:, 1] = np.sin(angles) * 0.7 + noise * rnd.randn(m) / 2\n",
    "data[:, 2] = data[:, 0] * w1 + data[:, 1] * w2 + noise * rnd.randn(m)"
   ]
  },
  {
   "cell_type": "code",
   "execution_count": 5,
   "metadata": {},
   "outputs": [],
   "source": [
    "from sklearn.preprocessing import StandardScaler\n",
    "scaler = StandardScaler()\n",
    "X_train = scaler.fit_transform(data[:100])\n",
    "X_test = scaler.transform(data[100:])"
   ]
  },
  {
   "cell_type": "code",
   "execution_count": 6,
   "metadata": {},
   "outputs": [],
   "source": [
    "#The inputs and the outputs\n",
    "n_input=3\n",
    "n_hidden=2\n",
    "n_output=n_input\n",
    "#Defining the learning rates\n",
    "learning_rate=0.01\n",
    "\n",
    "#Defning  or placeholder\n",
    "X=tf.placeholder(tf.float32,shape=[None,n_input])\n",
    "hidden=tf.layers.dense(X,n_hidden)\n",
    "output=tf.layers.dense(hidden,n_output)\n",
    "\n",
    "#Defining our loss\n",
    "reconstruction_loss=tf.reduce_mean(tf.square(output-X))\n",
    "\n",
    "optimizer = tf.train.AdamOptimizer(learning_rate)\n",
    "training_op = optimizer.minimize(reconstruction_loss)\n",
    "\n",
    "init = tf.global_variables_initializer()"
   ]
  },
  {
   "cell_type": "code",
   "execution_count": 7,
   "metadata": {},
   "outputs": [],
   "source": [
    "num_epochs=10000\n",
    "codings=hidden\n",
    "with tf.Session() as sess:\n",
    "    sess.run(init)\n",
    "    for epoch in range(num_epochs):\n",
    "        training_op.run(feed_dict={X:X_train})\n",
    "        codings_val = codings.eval(feed_dict={X: X_test})"
   ]
  },
  {
   "cell_type": "code",
   "execution_count": 8,
   "metadata": {},
   "outputs": [
    {
     "data": {
      "image/png": "[encoded data removed]",
      "text/plain": [
       "<Figure size 288x216 with 1 Axes>"
      ]
     },
     "metadata": {},
     "output_type": "display_data"
    }
   ],
   "source": [
    "fig = plt.figure(figsize=(4,3))\n",
    "plt.plot(codings_val[:,0], codings_val[:, 1], \"b.\")\n",
    "plt.xlabel(\"$z_1$\", fontsize=18)\n",
    "plt.ylabel(\"$z_2$\", fontsize=18, rotation=0)\n",
    "plt.show()"
   ]
  },
  {
   "cell_type": "markdown",
   "metadata": {},
   "source": [
    "## Sparse Autoencoder"
   ]
  },
  {
   "cell_type": "code",
   "execution_count": 9,
   "metadata": {},
   "outputs": [],
   "source": [
    "tf.reset_default_graph()\n",
    "\n",
    "#Defining our layers\n",
    "n_input=28*28\n",
    "n_hidden=1000\n",
    "n_output=n_input\n"
   ]
  },
  {
   "cell_type": "code",
   "execution_count": 10,
   "metadata": {},
   "outputs": [],
   "source": [
    "def kl_divergence(p,q):\n",
    "    #Kullback-leibler divergence\n",
    "    return p * tf.log(p / q) + (1 - p) * tf.log((1 - p) / (1 - q))\n",
    "\n",
    "#Defining our parameters\n",
    "learning_rate=0.01\n",
    "sparsity_target=0.1\n",
    "sparsity_weight=0.2 #Nor too high or too low to  discard the features\n",
    "\n",
    "#Defining our placeholders\n",
    "X=tf.placeholder(tf.float32,shape=[None,n_input])\n",
    "hidden=tf.layers.dense(X,n_input,activation=tf.nn.sigmoid) #To avoid as kl_divergence returns NaN without sigmoid\n",
    "output=tf.layers.dense(hidden,n_output)\n",
    "\n",
    "hidden_mean=tf.reduce_mean(hidden,axis=0)\n",
    "sparsity_loss=tf.reduce_sum(kl_divergence(sparsity_target,hidden_mean))\n",
    "reconstruction_loss=tf.reduce_mean(tf.square(output-X)) #Can use sigmoid cross entropy with logits to speed up convergence\n",
    "loss=reconstruction_loss+sparsity_loss*sparsity_weight\n",
    "\n",
    "optimizer = tf.train.AdamOptimizer(learning_rate)\n",
    "training_op = optimizer.minimize(loss)\n",
    "init = tf.global_variables_initializer()\n",
    "saver = tf.train.Saver()"
   ]
  },
  {
   "cell_type": "code",
   "execution_count": 11,
   "metadata": {},
   "outputs": [
    {
     "name": "stdout",
     "output_type": "stream",
     "text": [
      "0 Train MSE: 0.010883393 \tSparsity loss: 0.040099137 \tTotal loss: 0.01890322\n",
      "1 Train MSE: 0.009697816 \tSparsity loss: 0.44235432 \tTotal loss: 0.098168686\n",
      "2 Train MSE: 0.009351197 \tSparsity loss: 0.68306094 \tTotal loss: 0.14596339\n",
      "3 Train MSE: 0.013492532 \tSparsity loss: 0.15119603 \tTotal loss: 0.04373174\n",
      "4 Train MSE: 0.0076811933 \tSparsity loss: 0.07346609 \tTotal loss: 0.022374412\n",
      "5 Train MSE: 0.013735458 \tSparsity loss: 0.8951491 \tTotal loss: 0.19276528\n",
      "6 Train MSE: 0.012197619 \tSparsity loss: 0.2658172 \tTotal loss: 0.06536106\n",
      "79% Train MSE: 0.0089858165 \tSparsity loss: 0.40964198 \tTotal loss: 0.09091421\n",
      "8 Train MSE: 0.008364938 \tSparsity loss: 0.08916975 \tTotal loss: 0.026198888\n",
      "9 Train MSE: 0.010790004 \tSparsity loss: 0.20512685 \tTotal loss: 0.051815376\n"
     ]
    }
   ],
   "source": [
    "import sys\n",
    "num_epochs=10\n",
    "batch_size=1000 #So that our hidden layer mean isn't too low\n",
    "with tf.Session() as sess:\n",
    "    init.run()\n",
    "    for epoch in range(num_epochs):\n",
    "        n_batches = mnist.train.num_examples\n",
    "        for iteration in range(n_batches):\n",
    "            print(\"\\r{}%\".format(100 * iteration // n_batches), end=\"\")\n",
    "            sys.stdout.flush()\n",
    "            X_batch, y_batch = mnist.train.next_batch(batch_size)\n",
    "            sess.run(training_op, feed_dict={X: X_batch})\n",
    "        reconstruction_loss_val, sparsity_loss_val, loss_val = sess.run([reconstruction_loss, sparsity_loss, loss], feed_dict={X: X_batch})\n",
    "        print(\"\\r{}\".format(epoch), \"Train MSE:\", reconstruction_loss_val, \"\\tSparsity loss:\", sparsity_loss_val, \"\\tTotal loss:\", loss_val)\n",
    "        saver.save(sess, \"./my_model_sparse_New.ckpt\")\n"
   ]
  },
  {
   "cell_type": "code",
   "execution_count": 26,
   "metadata": {},
   "outputs": [],
   "source": [
    "#show_reconstructed_digits(X, outputs, \"./my_model_sparse_New.ckpt\")"
   ]
  },
  {
   "cell_type": "markdown",
   "metadata": {},
   "source": [
    "## Stacked Denoisong Autoencoder With/Without Dropouts"
   ]
  },
  {
   "cell_type": "code",
   "execution_count": null,
   "metadata": {},
   "outputs": [],
   "source": [
    "#Stacked denoisng autoencoder can be implemented with or without dropouts.\n",
    "#We just add random noise to the input and this forcees the autoencoder to\n",
    "#trivially copying the input to the output. The autoencoder now needs to find\n",
    "#interesting feaatures without the noise in the input\n",
    "#the noise can be randomly switched off like the dropout."
   ]
  },
  {
   "cell_type": "markdown",
   "metadata": {},
   "source": [
    "### Using Gaussian Noise"
   ]
  },
  {
   "cell_type": "code",
   "execution_count": 13,
   "metadata": {},
   "outputs": [],
   "source": [
    "tf.reset_default_graph()\n",
    "#defining the structure of the neural network\n",
    "n_input=28*28 #The input image size\n",
    "n_hidden1=300 \n",
    "n_hidden2=150 #The coding layer\n",
    "n_hidden3=n_hidden1\n",
    "n_output=n_input\n",
    "#Defning our learning rate in the nn\n",
    "learning_rate=0.01"
   ]
  },
  {
   "cell_type": "code",
   "execution_count": 14,
   "metadata": {},
   "outputs": [],
   "source": [
    "tf.reset_default_graph()\n",
    "noisy_level=1.0 #Defining the amount of noise in the data\n",
    "X=tf.placeholder(tf.float32,[None,n_input])\n",
    "X_noisy=X+noisy_level*tf.random_normal(tf.shape(X)) #tf.shape(X) correctly displays the shape during the runtime\n",
    "#as the shape of X is partially defined\n",
    "hidden1=tf.layers.dense(X_noisy,n_hidden1,activation=tf.nn.relu,name=\"hidden1\")\n",
    "hidden2=tf.layers.dense(hidden1,n_hidden2,activation=tf.nn.relu,name=\"hidden2\")\n",
    "hidden3=tf.layers.dense(hidden2,n_hidden3,activation=tf.nn.relu,name=\"hidden3\")\n",
    "outputs=tf.layers.dense(hidden3,n_output,name=\"outputs\")\n",
    "\n",
    "reconstruction_loss=tf.reduce_mean(tf.square(outputs-X)) #Mean Squared Error Loss"
   ]
  },
  {
   "cell_type": "code",
   "execution_count": 15,
   "metadata": {},
   "outputs": [],
   "source": [
    "optimizer=tf.train.AdamOptimizer(learning_rate)\n",
    "training_op=optimizer.minimize(reconstruction_loss)\n",
    "init=tf.global_variables_initializer() #the global variable initializer\n",
    "saver=tf.train.Saver()#The saver"
   ]
  },
  {
   "cell_type": "code",
   "execution_count": 16,
   "metadata": {},
   "outputs": [
    {
     "name": "stdout",
     "output_type": "stream",
     "text": [
      "0 Train MSE: 0.04216841\n",
      "1 %Train MSE: 0.04327384\n",
      "2 Train MSE: 0.039360285\n",
      "3 Train MSE: 0.0414747\n",
      "4 Train MSE: 0.040011574\n",
      "5 Train MSE: 0.03911881\n",
      "6 Train MSE: 0.040927935\n",
      "7 Train MSE: 0.038915537\n",
      "8 Train MSE: 0.040026598\n",
      "9 Train MSE: 0.039881427\n"
     ]
    }
   ],
   "source": [
    "import sys\n",
    "#Defning the nu of epochs and the batch size\n",
    "n_epochs=10\n",
    "batch_size=150\n",
    "with tf.Session() as sess:\n",
    "    init.run()\n",
    "    for epoch in range(n_epochs):\n",
    "        n_batches = mnist.train.num_examples // batch_size\n",
    "        for iteration in range(n_batches):\n",
    "            print(\"\\r{}%\".format(100 * iteration // n_batches), end=\"\")\n",
    "            sys.stdout.flush()\n",
    "            X_batch, y_batch = mnist.train.next_batch(batch_size)\n",
    "            sess.run(training_op,feed_dict={X:X_batch})\n",
    "        loss_train = reconstruction_loss.eval(feed_dict={X: X_batch})\n",
    "        print(\"\\r{}\".format(epoch), \"Train MSE:\", loss_train)\n",
    "        saver.save(sess, \"./my_model_stacked_denoising_gaussian_New_One.ckpt\")"
   ]
  },
  {
   "cell_type": "code",
   "execution_count": 17,
   "metadata": {},
   "outputs": [
    {
     "name": "stdout",
     "output_type": "stream",
     "text": [
      "INFO:tensorflow:Restoring parameters from ./my_model_stacked_denoising_gaussian_New_One.ckpt\n"
     ]
    },
    {
     "data": {
      "image/png": "[encoded data removed]",
      "text/plain": [
       "<Figure size 576x432 with 4 Axes>"
      ]
     },
     "metadata": {},
     "output_type": "display_data"
    }
   ],
   "source": [
    "show_reconstructed_digits(X_noisy, outputs, \"./my_model_stacked_denoising_gaussian_New_One.ckpt\")"
   ]
  },
  {
   "cell_type": "markdown",
   "metadata": {},
   "source": [
    "### Using Dropout"
   ]
  },
  {
   "cell_type": "code",
   "execution_count": 18,
   "metadata": {},
   "outputs": [],
   "source": [
    "#The proceedure remains same throughout instead we just introduce a dropout in the \n",
    "#code instead of the gausian noise. The rest of the code remains same"
   ]
  },
  {
   "cell_type": "code",
   "execution_count": 19,
   "metadata": {},
   "outputs": [],
   "source": [
    "tf.reset_default_graph()\n",
    "#defining the structure of the neural network\n",
    "n_input=28*28 #The input image size\n",
    "n_hidden1=300 \n",
    "n_hidden2=150 #The coding layer\n",
    "n_hidden3=n_hidden1\n",
    "n_output=n_input\n",
    "#Defning our learning rate in the nn\n",
    "learning_rate=0.01"
   ]
  },
  {
   "cell_type": "code",
   "execution_count": 20,
   "metadata": {},
   "outputs": [],
   "source": [
    "dropout_rate=0.3\n",
    "#The is training parameter\n",
    "training = tf.placeholder_with_default(False, shape=(), name='training')\n",
    "X=tf.placeholder(tf.float32,shape=[None,n_input],name=\"X\")\n",
    "X_drop=tf.layers.dropout(X,dropout_rate,training=training)\n",
    "#as the shape of X is partially defined\n",
    "hidden1=tf.layers.dense(X_drop,n_hidden1,activation=tf.nn.relu,name=\"hidden1\")\n",
    "hidden2=tf.layers.dense(hidden1,n_hidden2,activation=tf.nn.relu,name=\"hidden2\")\n",
    "hidden3=tf.layers.dense(hidden2,n_hidden3,activation=tf.nn.relu,name=\"hidden3\")\n",
    "outputs=tf.layers.dense(hidden3,n_output,activation=tf.nn.relu,name=\"output\")\n",
    "\n",
    "reconstruction_loss=tf.reduce_mean(tf.square(outputs-X)) #Mean Squared Error Loss"
   ]
  },
  {
   "cell_type": "code",
   "execution_count": 21,
   "metadata": {},
   "outputs": [],
   "source": [
    "optimizer=tf.train.AdamOptimizer(learning_rate)\n",
    "training_op=optimizer.minimize(reconstruction_loss)\n",
    "init=tf.global_variables_initializer() #the global variable initializer\n",
    "saver=tf.train.Saver()#The saver"
   ]
  },
  {
   "cell_type": "code",
   "execution_count": 22,
   "metadata": {},
   "outputs": [
    {
     "name": "stdout",
     "output_type": "stream",
     "text": [
      "0 Train MSE: 0.027817417\n",
      "1 Train MSE: 0.023674907\n",
      "2 Train MSE: 0.023245055\n",
      "3 Train MSE: 0.019699875\n",
      "4 Train MSE: 0.021760495\n",
      "5 Train MSE: 0.021281576\n",
      "6 Train MSE: 0.02105984\n",
      "7 Train MSE: 0.018875798\n",
      "8 Train MSE: 0.020524815\n",
      "9 Train MSE: 0.021167079\n"
     ]
    }
   ],
   "source": [
    "#Defning the nu of epochs and the batch size\n",
    "n_epochs=10\n",
    "batch_size=150\n",
    "with tf.Session() as sess:\n",
    "    init.run()\n",
    "    for epoch in range(n_epochs):\n",
    "        n_batches = mnist.train.num_examples // batch_size\n",
    "        for iteration in range(n_batches):\n",
    "            print(\"\\r{}%\".format(100 * iteration // n_batches), end=\"\")\n",
    "            sys.stdout.flush()\n",
    "            X_batch, y_batch = mnist.train.next_batch(batch_size)\n",
    "            sess.run(training_op,feed_dict={X:X_batch,training:True})\n",
    "        loss_train = reconstruction_loss.eval(feed_dict={X: X_batch})\n",
    "        print(\"\\r{}\".format(epoch), \"Train MSE:\", loss_train)\n",
    "        saver.save(sess, \"./my_model_stacked_denoising_gaussian_New.ckpt\")"
   ]
  },
  {
   "cell_type": "code",
   "execution_count": 23,
   "metadata": {},
   "outputs": [
    {
     "name": "stdout",
     "output_type": "stream",
     "text": [
      "INFO:tensorflow:Restoring parameters from ./my_model_stacked_denoising_gaussian_New.ckpt\n"
     ]
    },
    {
     "data": {
      "image/png": "[encoded data removed]",
      "text/plain": [
       "<Figure size 576x432 with 4 Axes>"
      ]
     },
     "metadata": {},
     "output_type": "display_data"
    }
   ],
   "source": [
    "show_reconstructed_digits(X_drop, outputs, \"./my_model_stacked_denoising_gaussian_New.ckpt\")"
   ]
  },
  {
   "cell_type": "code",
   "execution_count": null,
   "metadata": {},
   "outputs": [],
   "source": []
  }
 ],
 "metadata": {
  "kernelspec": {
   "display_name": "Python 3",
   "language": "python",
   "name": "python3"
  },
  "language_info": {
   "codemirror_mode": {
    "name": "ipython",
    "version": 3
   },
   "file_extension": ".py",
   "mimetype": "text/x-python",
   "name": "python",
   "nbconvert_exporter": "python",
   "pygments_lexer": "ipython3",
   "version": "3.6.5"
  }
 },
 "nbformat": 4,
 "nbformat_minor": 2
}
