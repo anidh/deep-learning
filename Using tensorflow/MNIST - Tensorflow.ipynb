{
 "cells": [
  {
   "cell_type": "code",
   "execution_count": 1,
   "metadata": {},
   "outputs": [
    {
     "name": "stderr",
     "output_type": "stream",
     "text": [
      "E:\\Anaconda\\lib\\site-packages\\h5py\\__init__.py:36: FutureWarning: Conversion of the second argument of issubdtype from `float` to `np.floating` is deprecated. In future, it will be treated as `np.float64 == np.dtype(float).type`.\n",
      "  from ._conv import register_converters as _register_converters\n"
     ]
    },
    {
     "name": "stdout",
     "output_type": "stream",
     "text": [
      "Tensorflow version 1.12.0\n"
     ]
    }
   ],
   "source": [
    "#importing the necessary libraries\n",
    "import tensorflow as tf\n",
    "import numpy as np\n",
    "import matplotlib.pyplot as plt\n",
    "%matplotlib inline\n",
    "import math\n",
    "from tensorflow.python.framework import ops\n",
    "print(\"Tensorflow version \" + tf.__version__)\n",
    "tf.set_random_seed(0)\n",
    "tf.reset_default_graph()"
   ]
  },
  {
   "cell_type": "code",
   "execution_count": 2,
   "metadata": {},
   "outputs": [],
   "source": [
    "#we will download the mnist dataset through tensorflow itt will be split between mnist.test and mmnist.train containing about\n",
    "#10k and 50k images each\n",
    "def load_dataset(flatten=False):\n",
    "    \"\"\"mnist = tf.keras.datasets.mnist\n",
    "    (X_train, Y_train),(X_test, Y_test) = mnist.load_data()\n",
    "    X_train, X_test = X_train / 255.0,X_test / 255.0\n",
    "    if flatten:\n",
    "        X_train=X_train.reshape([X_train.shape[0],-1])\n",
    "        X_test=X_test.reshape([X_test.shape[0],-1])\n",
    "    return X_train, Y_train,X_test, Y_test\"\"\"\n",
    "    from sklearn.datasets import fetch_mldata\n",
    "    mnist = fetch_mldata('MNIST original')\n",
    "    X, y = mnist[\"data\"], mnist[\"target\"]\n",
    "    # split, reshape, shuffle\n",
    "    m = 60000\n",
    "    m_test = X.shape[0] - m\n",
    "    X_train, X_test = X[:m], X[m:]\n",
    "    Y_train, Y_test = y[:m], y[m:]\n",
    "    return X_train, Y_train,X_test,Y_test"
   ]
  },
  {
   "cell_type": "code",
   "execution_count": 3,
   "metadata": {},
   "outputs": [
    {
     "name": "stdout",
     "output_type": "stream",
     "text": [
      "-x-x-x-x-x-x-x-x-x-x-x-x-x-x--x-x-xPrinting the shapes-x-x-x-x-x-x-x-x-x-x-x-x--x-x\n",
      "The training shape of X is (60000, 784) and Y is (60000,)\n",
      "The testing shape of X is (10000, 784) and Y is (10000,)\n"
     ]
    }
   ],
   "source": [
    "X_train,Y_train,X_test,Y_test=load_dataset()\n",
    "print(\"-x-x-x-x-x-x-x-x-x-x-x-x-x-x--x-x-xPrinting the shapes-x-x-x-x-x-x-x-x-x-x-x-x--x-x\")\n",
    "print(\"The training shape of X is {} and Y is {}\".format(X_train.shape, Y_train.shape))\n",
    "print(\"The testing shape of X is {} and Y is {}\".format(X_test.shape,Y_test.shape))"
   ]
  },
  {
   "cell_type": "code",
   "execution_count": 4,
   "metadata": {},
   "outputs": [
    {
     "name": "stdout",
     "output_type": "stream",
     "text": [
      "Train labels dimension:\n",
      "(60000, 10)\n",
      "Test labels dimension:\n",
      "(10000, 10)\n"
     ]
    }
   ],
   "source": [
    "from sklearn.preprocessing import LabelBinarizer\n",
    "lb=LabelBinarizer()\n",
    "Y_train=lb.fit_transform(Y_train)\n",
    "Y_test=lb.transform(Y_test)\n",
    "print('Train labels dimension:');print(Y_train.shape)\n",
    "print('Test labels dimension:');print(Y_test.shape)\n"
   ]
  },
  {
   "cell_type": "code",
   "execution_count": 5,
   "metadata": {},
   "outputs": [],
   "source": [
    "#designing the placeholders for the X and the Y\n",
    "def placholder(n_x,n_y,keep_prob):\n",
    "    #update 1 adding the learning rate decay function\n",
    "    X=tf.placeholder(tf.float32,shape=[None,n_x],name=\"X\")\n",
    "    Y=tf.placeholder(tf.float32,shape=[None,n_y],name=\"Y\")\n",
    "    keep_prob=tf.placeholder(tf.float32,name=\"keep_prob\")\n",
    "    return X,Y,keep_prob"
   ]
  },
  {
   "cell_type": "code",
   "execution_count": 6,
   "metadata": {},
   "outputs": [
    {
     "name": "stdout",
     "output_type": "stream",
     "text": [
      "X =Tensor(\"X:0\", shape=(?, 784), dtype=float32)\n",
      "Y =Tensor(\"Y:0\", shape=(?, 10), dtype=float32)\n",
      "Dropout Probability =Tensor(\"keep_prob:0\", dtype=float32)\n"
     ]
    }
   ],
   "source": [
    "X,Y,keep_prob=placholder(784,10,0.75)\n",
    "print(\"X =\" +str(X))\n",
    "print(\"Y =\" +str(Y))\n",
    "print(\"Dropout Probability =\" +str(keep_prob))"
   ]
  },
  {
   "cell_type": "code",
   "execution_count": 7,
   "metadata": {},
   "outputs": [],
   "source": [
    "#Now initialzing the weights which are present\n",
    "def initialize_params():\n",
    "    W1=tf.get_variable(\"W1\",[784,200],initializer=tf.contrib.layers.xavier_initializer(),dtype=tf.float32)\n",
    "    b1=tf.get_variable(\"b1\",[200],initializer=tf.zeros_initializer(),dtype=tf.float32)\n",
    "    W2=tf.get_variable(\"W2\",[200,100],initializer=tf.contrib.layers.xavier_initializer(),dtype=tf.float32)\n",
    "    b2=tf.get_variable(\"b2\",[100],initializer=tf.zeros_initializer(),dtype=tf.float32)\n",
    "    W3=tf.get_variable(\"W3\",[100,70],initializer=tf.contrib.layers.xavier_initializer(),dtype=tf.float32)\n",
    "    b3=tf.get_variable(\"b3\",[70],initializer=tf.zeros_initializer(),dtype=tf.float32)\n",
    "    W4=tf.get_variable(\"W4\",[70,40],initializer=tf.contrib.layers.xavier_initializer(),dtype=tf.float32)\n",
    "    b4=tf.get_variable(\"b4\",[40],initializer=tf.zeros_initializer(),dtype=tf.float32)\n",
    "    W5=tf.get_variable(\"W5\",[40,10],initializer=tf.contrib.layers.xavier_initializer(),dtype=tf.float32)\n",
    "    b5=tf.get_variable(\"b5\",[10],initializer=tf.zeros_initializer(),dtype=tf.float32)\n",
    "    \n",
    "    parameters={\"W1\":W1,\"b1\":b1,\"W2\":W2,\"b2\":b2,\"W3\":W3,\"b3\":b3,\"W4\":W4,\"b4\":b4,\"W5\":W5,\"b5\":b5}\n",
    "    \n",
    "    return parameters"
   ]
  },
  {
   "cell_type": "code",
   "execution_count": 8,
   "metadata": {},
   "outputs": [
    {
     "name": "stdout",
     "output_type": "stream",
     "text": [
      "W1 = <tf.Variable 'W1:0' shape=(784, 200) dtype=float32_ref>\n",
      "b1 = <tf.Variable 'b1:0' shape=(200,) dtype=float32_ref>\n",
      ".........\n",
      "W5 = <tf.Variable 'W5:0' shape=(40, 10) dtype=float32_ref>\n",
      "b5 = <tf.Variable 'b5:0' shape=(10,) dtype=float32_ref>\n"
     ]
    }
   ],
   "source": [
    "tf.reset_default_graph()\n",
    "X,Y,keep_prob=placholder(784,10,0.75) \n",
    "parameters=initialize_params()\n",
    "print(\"W1 = \" + str(parameters[\"W1\"]))\n",
    "print(\"b1 = \" + str(parameters[\"b1\"]))\n",
    "print(\".........\")\n",
    "print(\"W5 = \" + str(parameters[\"W5\"]))\n",
    "print(\"b5 = \" + str(parameters[\"b5\"]))"
   ]
  },
  {
   "cell_type": "code",
   "execution_count": 9,
   "metadata": {},
   "outputs": [],
   "source": [
    "def feed_forward(X,parameters,keep_prob):\n",
    "    cache={}\n",
    "    Z1=tf.add((tf.matmul(X,parameters[\"W1\"])),parameters[\"b1\"])\n",
    "    A1=tf.nn.relu(Z1)\n",
    "    A1d=tf.nn.dropout(A1,keep_prob)\n",
    "    Z2=tf.add((tf.matmul(A1d,parameters[\"W2\"])),parameters[\"b2\"])\n",
    "    A2=tf.nn.relu(Z2)\n",
    "    A2d=tf.nn.dropout(A2,keep_prob)\n",
    "    Z3=tf.add((tf.matmul(A2d,parameters[\"W3\"])),parameters[\"b3\"])\n",
    "    A3=tf.nn.relu(Z3)\n",
    "    #A3d=tf.nn.dropout(A3,keep_prob)\n",
    "    Z4=tf.add((tf.matmul(A3,parameters[\"W4\"])),parameters[\"b4\"])\n",
    "    A4=tf.nn.relu(Z4)\n",
    "    #A4d=tf.nn.dropout(A4,keep_prob)\n",
    "    Z5=tf.add((tf.matmul(A4,parameters[\"W5\"])),parameters[\"b5\"])\n",
    "    \n",
    "    return Z5"
   ]
  },
  {
   "cell_type": "code",
   "execution_count": 10,
   "metadata": {},
   "outputs": [
    {
     "name": "stdout",
     "output_type": "stream",
     "text": [
      "Tensor(\"Add_4:0\", shape=(?, 10), dtype=float32)\n"
     ]
    }
   ],
   "source": [
    "tf.reset_default_graph()\n",
    "with tf.Session() as sess:\n",
    "    X,Y,keep_prob=placholder(784,10,0.75)\n",
    "    parameters=initialize_params()\n",
    "    Z5=feed_forward(X,parameters,keep_prob)\n",
    "print(Z5)"
   ]
  },
  {
   "cell_type": "code",
   "execution_count": 11,
   "metadata": {},
   "outputs": [],
   "source": [
    "def compute_cost_tf(Z5,Y):\n",
    "    \"\"\"\n",
    "    Computes the cost\n",
    "    \n",
    "    Arguments:\n",
    "    Z3 -- output of forward propagation (output of the last LINEAR unit), of shape (6, number of examples)\n",
    "    Y -- \"true\" labels vector placeholder, same shape as Z3\n",
    "    \n",
    "    Returns:\n",
    "    cost - Tensor of the cost function\n",
    "    \"\"\" \n",
    "    cost=tf.reduce_mean(tf.nn.softmax_cross_entropy_with_logits_v2(logits=Z5,labels=Y))\n",
    "    \n",
    "    return cost"
   ]
  },
  {
   "cell_type": "code",
   "execution_count": 12,
   "metadata": {},
   "outputs": [
    {
     "name": "stdout",
     "output_type": "stream",
     "text": [
      "Tensor(\"Mean:0\", shape=(), dtype=float32)\n"
     ]
    }
   ],
   "source": [
    "tf.reset_default_graph()\n",
    "with tf.Session() as sess:\n",
    "    X,Y,keep_prob=placholder(784,10,0.75)\n",
    "    parameters=initialize_params()\n",
    "    Z5=feed_forward(X,parameters,keep_prob)\n",
    "    cost=compute_cost_tf(Z5,Y)\n",
    "print(cost)"
   ]
  },
  {
   "cell_type": "code",
   "execution_count": 13,
   "metadata": {},
   "outputs": [],
   "source": [
    "def random_mini_batches(X, Y,seed, mini_batch_size = 64):\n",
    "    \"\"\"\n",
    "    Creates a list of random minibatches from (X, Y)\n",
    "    \n",
    "    Arguments:\n",
    "    X -- input data, of shape (input size, number of examples)\n",
    "    Y -- true \"label\" vector (containing 0 if cat, 1 if non-cat), of shape (1, number of examples)\n",
    "    mini_batch_size - size of the mini-batches, integer\n",
    "    seed -- this is only for the purpose of grading, so that you're \"random minibatches are the same as ours.\n",
    "    \n",
    "    Returns:\n",
    "    mini_batches -- list of synchronous (mini_batch_X, mini_batch_Y)\n",
    "    \"\"\"\n",
    "    #The Code is Transformed for m,n_x Case#\n",
    "    \n",
    "    m = X.shape[0]                  # number of training examples\n",
    "    mini_batches = []\n",
    "    np.random.seed(seed)\n",
    "    \n",
    "    # Step 1: Shuffle (X, Y)\n",
    "    permutation = list(np.random.permutation(m))\n",
    "    shuffled_X = X[permutation,:]\n",
    "    shuffled_Y = Y[permutation,:].reshape((m,Y.shape[1]))\n",
    "\n",
    "    # Step 2: Partition (shuffled_X, shuffled_Y). Minus the end case.\n",
    "    num_complete_minibatches = math.floor(m/mini_batch_size) # number of mini batches of size mini_batch_size in your partitionning\n",
    "    for k in range(0, num_complete_minibatches):\n",
    "        mini_batch_X = shuffled_X[k * mini_batch_size : k * mini_batch_size + mini_batch_size,:]\n",
    "        mini_batch_Y = shuffled_Y[k * mini_batch_size : k * mini_batch_size + mini_batch_size,:]\n",
    "        mini_batch = (mini_batch_X, mini_batch_Y)\n",
    "        mini_batches.append(mini_batch)\n",
    "    \n",
    "    # Handling the end case (last mini-batch < mini_batch_size)\n",
    "    if m % mini_batch_size != 0:\n",
    "        mini_batch_X = shuffled_X[num_complete_minibatches * mini_batch_size : m,:]\n",
    "        mini_batch_Y = shuffled_Y[num_complete_minibatches * mini_batch_size : m,:]\n",
    "        mini_batch = (mini_batch_X, mini_batch_Y)\n",
    "        mini_batches.append(mini_batch)\n",
    "    \n",
    "    return mini_batches"
   ]
  },
  {
   "cell_type": "code",
   "execution_count": 14,
   "metadata": {},
   "outputs": [],
   "source": [
    "def nn_model(X_train,Y_train,X_test,Y_test,learning_rate,num_epochs,dropout_prob,mini_batch_size=64,print_cost=True):\n",
    "    #initializing the shapes\n",
    "    print(X_train.shape)\n",
    "    (m,n_x)=X_train.shape\n",
    "    (n_y)=Y_train.shape[1]\n",
    "    seed=3\n",
    "    ops.reset_default_graph()\n",
    "    costs=[]\n",
    "    #Initializing all the placeholders\n",
    "    global_step = tf.Variable(0, trainable=False)\n",
    "    X,Y,keep_prob=placholder(n_x,n_y,dropout_prob)\n",
    "\n",
    "    #Now the weights initialization\n",
    "    parameters=initialize_params()\n",
    "    \n",
    "    #The forward propagation\n",
    "    Z5=feed_forward(X,parameters,keep_prob)\n",
    "    \n",
    "    #The cost which we have got\n",
    "    cost=compute_cost_tf(Z5,Y)\n",
    "    \n",
    "    #The learning rate decay parameter\n",
    "    lr = tf.train.exponential_decay(learning_rate, global_step,decay_steps=2000,decay_rate=0.96, staircase=True)\n",
    "    \n",
    "    #Defining the optimizer\n",
    "    optimizer=tf.train.AdamOptimizer(learning_rate=lr,beta1=0.98,beta2=0.999,epsilon=1e-08,name=\"Adam\").minimize(cost,global_step)\n",
    "    \n",
    "    #The variable initialization part\n",
    "    init=tf.global_variables_initializer()\n",
    "    \n",
    "    with tf.Session() as sess:\n",
    "        sess.run(init)\n",
    "        print(\"----------------Initialized--------------------------\")\n",
    "        print(\"The algorithm will be run for {} epochs\".format(num_epochs))\n",
    "        for epoch in range(num_epochs+1):\n",
    "            epoch_cost=0\n",
    "            num_of_mini_batches=int(m/mini_batch_size)\n",
    "            seed=seed+1\n",
    "            minibatches = random_mini_batches(X_train, Y_train,seed,mini_batch_size = 64)\n",
    "            for minibatch in minibatches:\n",
    "                (minibatch_X, minibatch_Y) = minibatch\n",
    "                _,minibatchcost=sess.run([optimizer,cost],feed_dict={X: minibatch_X,Y: minibatch_Y,keep_prob:dropout_prob})\n",
    "                epoch_cost+=minibatchcost/num_of_mini_batches\n",
    "            if print_cost == True and epoch % 100 == 0:\n",
    "                print (\"The cost for Epoch {} is {} with dropout probability {}\".format(epoch, epoch_cost,dropout_prob))\n",
    "            if print_cost == True and epoch % 5 == 0:\n",
    "                costs.append(epoch_cost)\n",
    "        print(\"---------------------------ModelTrained-----------------------\")\n",
    "        \n",
    "        print(\"The Cost vs Iteration curve is -\")\n",
    "        \n",
    "        plt.plot(np.squeeze(costs))\n",
    "        plt.ylabel('cost')\n",
    "        plt.xlabel('iterations (per tens)')\n",
    "        plt.title(\" Initial Learning rate =\" + str(learning_rate))\n",
    "        plt.show()\n",
    "        \n",
    "        print(\"Saving The Parameters!------\")\n",
    "        \n",
    "        parameters=sess.run(parameters)        \n",
    "        correct_prediction = tf.equal(tf.argmax(Z5,1), tf.argmax(Y,1))\n",
    "        # Calculate accuracy on the test set\n",
    "        accuracy = tf.reduce_mean(tf.cast(correct_prediction, \"float\"))\n",
    "        print(\"Train Accuracy:\", accuracy.eval({X: X_train, Y: Y_train,keep_prob:dropout_prob}))\n",
    "        print(\"Test Accuracy:\", accuracy.eval({X: X_test, Y: Y_test,keep_prob:1.0}))\n",
    "\n",
    "        return parameters\n",
    "        \n"
   ]
  },
  {
   "cell_type": "code",
   "execution_count": 15,
   "metadata": {},
   "outputs": [
    {
     "name": "stdout",
     "output_type": "stream",
     "text": [
      "(60000, 784)\n",
      "----------------Initialized--------------------------\n",
      "The algorithm will be run for 1000 epochs\n",
      "The cost for Epoch 0 is 1.8286672783508608 with dropout probability 0.75\n",
      "The cost for Epoch 100 is 0.05642353098104256 with dropout probability 0.75\n",
      "The cost for Epoch 200 is 0.03891341548144427 with dropout probability 0.75\n",
      "The cost for Epoch 300 is 0.03622848109522061 with dropout probability 0.75\n",
      "The cost for Epoch 400 is 0.03550568100566245 with dropout probability 0.75\n",
      "The cost for Epoch 500 is 0.03821263351882897 with dropout probability 0.75\n",
      "The cost for Epoch 600 is 0.03677115611563778 with dropout probability 0.75\n",
      "The cost for Epoch 700 is 0.03298245175793044 with dropout probability 0.75\n",
      "The cost for Epoch 800 is 0.03560356515198305 with dropout probability 0.75\n",
      "The cost for Epoch 900 is 0.03447889452522473 with dropout probability 0.75\n",
      "The cost for Epoch 1000 is 0.035629318209829446 with dropout probability 0.75\n",
      "---------------------------ModelTrained-----------------------\n",
      "The Cost vs Iteration curve is -\n"
     ]
    },
    {
     "data": {
      "image/png": "[encoded data removed]",
      "text/plain": [
       "<Figure size 432x288 with 1 Axes>"
      ]
     },
     "metadata": {},
     "output_type": "display_data"
    },
    {
     "name": "stdout",
     "output_type": "stream",
     "text": [
      "Saving The Parameters!------\n",
      "Train Accuracy: 0.99093336\n",
      "Test Accuracy: 0.9699\n"
     ]
    }
   ],
   "source": [
    "parameters=nn_model(X_train,Y_train,X_test,Y_test,learning_rate=0.003,num_epochs=1000,dropout_prob=0.75)"
   ]
  },
  {
   "cell_type": "code",
   "execution_count": null,
   "metadata": {},
   "outputs": [],
   "source": []
  }
 ],
 "metadata": {
  "kernelspec": {
   "display_name": "Python 3",
   "language": "python",
   "name": "python3"
  },
  "language_info": {
   "codemirror_mode": {
    "name": "ipython",
    "version": 3
   },
   "file_extension": ".py",
   "mimetype": "text/x-python",
   "name": "python",
   "nbconvert_exporter": "python",
   "pygments_lexer": "ipython3",
   "version": "3.6.5"
  }
 },
 "nbformat": 4,
 "nbformat_minor": 2
}
