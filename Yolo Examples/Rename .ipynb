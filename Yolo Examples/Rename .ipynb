{
 "cells": [
  {
   "cell_type": "code",
   "execution_count": 2,
   "metadata": {},
   "outputs": [],
   "source": [
    "import os\n",
    "\n",
    "imdir = 'images'\n",
    "if not os.path.isdir(imdir):\n",
    "    os.mkdir(imdir)\n",
    "\n",
    "fidget_folders = [folder for folder in os.listdir('.') if 'fidget' in folder]\n",
    "\n",
    "n = 0\n",
    "for folder in fidget_folders:\n",
    "    for imfile in os.scandir(folder):\n",
    "        os.rename(imfile.path, os.path.join(imdir, '{:06}.png'.format(n)))\n",
    "        n += 1"
   ]
  },
  {
   "cell_type": "code",
   "execution_count": null,
   "metadata": {},
   "outputs": [],
   "source": []
  }
 ],
 "metadata": {
  "kernelspec": {
   "display_name": "Python 3",
   "language": "python",
   "name": "python3"
  },
  "language_info": {
   "codemirror_mode": {
    "name": "ipython",
    "version": 3
   },
   "file_extension": ".py",
   "mimetype": "text/x-python",
   "name": "python",
   "nbconvert_exporter": "python",
   "pygments_lexer": "ipython3",
   "version": "3.6.5"
  }
 },
 "nbformat": 4,
 "nbformat_minor": 2
}
